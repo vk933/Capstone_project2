{
 "cells": [
  {
   "cell_type": "code",
   "execution_count": 24,
   "id": "15e3ad15",
   "metadata": {},
   "outputs": [],
   "source": [
    "from pyspark.sql import SparkSession"
   ]
  },
  {
   "cell_type": "code",
   "execution_count": 25,
   "id": "b863c9d3",
   "metadata": {},
   "outputs": [],
   "source": [
    "spark = SparkSession.builder \\\n",
    "    .appName(\"HiveToDatabaseTransfer\") \\\n",
    "    .master(\"local[1]\") \\\n",
    "    .config(\"spark.master\", \"local\") \\\n",
    "    .config(\"spark.sql.catalogImplementation\", \"hive\") \\\n",
    "    .config(\"spark.sql.warehouse.dir\",\"hdfs://localhost:9000/user/hive/warehouse\") \\\n",
    "    .enableHiveSupport() \\\n",
    "    .getOrCreate()\n"
   ]
  },
  {
   "cell_type": "code",
   "execution_count": 26,
   "id": "1988c152",
   "metadata": {},
   "outputs": [
    {
     "data": {
      "text/plain": [
       "DataFrame[]"
      ]
     },
     "execution_count": 26,
     "metadata": {},
     "output_type": "execute_result"
    }
   ],
   "source": [
    "spark.sql(\"create database if not exists us_accidents\")"
   ]
  },
  {
   "cell_type": "code",
   "execution_count": 27,
   "id": "cdc70966",
   "metadata": {},
   "outputs": [
    {
     "data": {
      "text/plain": [
       "DataFrame[]"
      ]
     },
     "execution_count": 27,
     "metadata": {},
     "output_type": "execute_result"
    }
   ],
   "source": [
    "spark.sql(create table top_five_city(city string,total_accidents int) \\\n",
    "          ROW FORMAT DELIMITED FIELDS TERMINATED BY ','\\\n",
    "          TBLPROPERTIES (\"skip.header.line.count\"=\"1\")\")"
   ]
  },
  {
   "cell_type": "code",
   "execution_count": null,
   "id": "a7338949",
   "metadata": {},
   "outputs": [],
   "source": [
    "spark.sql(create table top_three_state(state string,total_state_accidents int) \\\n",
    "          ROW FORMAT DELIMITED FIELDS TERMINATED BY ',' \\\n",
    "          TBLPROPERTIES (\"skip.header.line.count\"=\"1\")\")"
   ]
  },
  {
   "cell_type": "code",
   "execution_count": null,
   "id": "0f90906c",
   "metadata": {},
   "outputs": [],
   "source": [
    "spark.sql(create table year_wise_accidents(accident_year int,total_accidents_yearwise int) \\\n",
    "          ROW FORMAT DELIMITED FIELDS TERMINATED BY ',' \\\n",
    "          TBLPROPERTIES (\"skip.header.line.count\"=\"1\")"
   ]
  },
  {
   "cell_type": "code",
   "execution_count": null,
   "id": "e0620be6",
   "metadata": {},
   "outputs": [],
   "source": [
    "spark.sql(create table weather_impact(weather_condition string,total_weather_accidents int ) \\\n",
    "          ROW FORMAT DELIMITED FIELDS TERMINATED BY ',' \\\n",
    "          TBLPROPERTIES (\"skip.header.line.count\"=\"1\")"
   ]
  },
  {
   "cell_type": "code",
   "execution_count": null,
   "id": "648b64bc",
   "metadata": {},
   "outputs": [],
   "source": [
    "spark.sql(create table hotspot_place_accidents(county string,state string,city string,total_country_accidents int) \\\n",
    "          ROW FORMAT DELIMITED FIELDS TERMINATED BY ',' \\\n",
    "          TBLPROPERTIES (\"skip.header.line.count\"=\"1\")"
   ]
  },
  {
   "cell_type": "code",
   "execution_count": null,
   "id": "b54c0516",
   "metadata": {},
   "outputs": [],
   "source": [
    "#load file\n",
    "LOAD DATA INPATH '/output/top_five_city.csv/*.csv' INTO TABLE output_data.top_five_city\n",
    "LOAD DATA INPATH '/output/top_three_state/*.csv' INTO TABLE output_data.top_three_state\n",
    "LOAD DATA INPATH '/output/year_wise_accidents/*.csv' INTO TABLE output_data.year_wise_accidents\n",
    "LOAD DATA INPATH '/output/weather_impact/*.csv' INTO TABLE output_data.weather_impact\n",
    "LOAD DATA INPATH '/output/hotspot_place_accidents/*.csv' INTO TABLE output_data.hotspot_place_accidents"
   ]
  },
  {
   "cell_type": "code",
   "execution_count": null,
   "id": "b6b68e75",
   "metadata": {},
   "outputs": [],
   "source": [
    "spark.stop()"
   ]
  }
 ],
 "metadata": {
  "kernelspec": {
   "display_name": "Python 3 (ipykernel)",
   "language": "python",
   "name": "python3"
  },
  "language_info": {
   "codemirror_mode": {
    "name": "ipython",
    "version": 3
   },
   "file_extension": ".py",
   "mimetype": "text/x-python",
   "name": "python",
   "nbconvert_exporter": "python",
   "pygments_lexer": "ipython3",
   "version": "3.11.4"
  }
 },
 "nbformat": 4,
 "nbformat_minor": 5
}
